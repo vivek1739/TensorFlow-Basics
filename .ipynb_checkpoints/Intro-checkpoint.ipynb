{
 "cells": [
  {
   "cell_type": "markdown",
   "metadata": {},
   "source": [
    "## Intro To TF\n",
    "- All real world problems can be modeled as graphs called Computation graphs or data flow graphs, they transorm the data as it flows through it\n",
    "- Adv:\n",
    "    - built for distributed computing\n",
    "    - suite of software like, tensorboard, tensorflow serving for productionize the models \n"
   ]
  },
  {
   "cell_type": "markdown",
   "metadata": {},
   "source": [
    "- In Tf everything is a graph. The structure we set forms nodes or edges within a graph\n",
    "- So programming in tf is building a graphical model of the solution which is the network\n",
    "- every node within this graph is a computation, computation act on the data flowing through the node producing the result that flow out of the node\n",
    "- Coputations are generally called OPERATORS in tensorflow.\n",
    "- Edges which connect these nodes are the data that flow  through the graph. The data is transformed by nodes to new edges which then move on to other nodes. These edges are called Tensors. .'. Tensors flow trrough the graph and get transformed along the way\n",
    "- Tensors are just n-D matrices used to represent complex datasets\n",
    "- NOTE :\n",
    "    - Computation for any node cannot run till all its inputs are available \n",
    "    - Some nodes are independent of other and can be run in //\n",
    "    \n"
   ]
  },
  {
   "cell_type": "code",
   "execution_count": 2,
   "metadata": {},
   "outputs": [
    {
     "name": "stdout",
     "output_type": "stream",
     "text": [
      "b'Hello, Tensorflow world!'\n"
     ]
    }
   ],
   "source": [
    "# TensorFlow hello world\n",
    "import tensorflow as tf\n",
    "hello = tf.constant('Hello, Tensorflow world!')\n",
    "# in order to execute any bit of code we need session\n",
    "sess = tf.Session()\n",
    "# to evalute we call session.run\n",
    "print(sess.run(hello))"
   ]
  },
  {
   "cell_type": "markdown",
   "metadata": {},
   "source": [
    "### Computation Graphs\n",
    "- nodes are computations or operators that act on data\n",
    "- edges are data\n",
    "- Directed acyclic graph : \n",
    "    - edges point forward towards a result\n",
    "    - no cycles ie. no edge is pointing to backward direction\n",
    "- NOTE : \n",
    "    - A graph with cycle will never finish computation\n",
    "    - Problems in TF are represented by directed acyclic graph\n",
    "- Dependency \n",
    "    - Direct dependency : nodes which receive data from other nodes are directly dependent\n",
    "    - Indirect dependency : if direct dependent node is itself dependent on other node\n",
    "        - ex. A -> B -> c ; for C, B is direct dep and A is indirect as B depends on A\n",
    "\n",
    "#### Cyclic dependencies in ML\n",
    "- Machine learning algo has a feedback loops(updating weights based on loss) which are cycles in tensorflow graphs. We just said it will not finish computation\n",
    "- Soln: \n",
    "    - Unrolling the graph ie. output of last node is fed into a copy of the graph we used instead of feeding it to first node of same graph\n",
    "    - We can make as many copies as required\n",
    "    - .'. even when the graphs are Directed acyclic, for every iteration it will unroll graphs to model cyclic dependencies.\n",
    "\n",
    "### 2 Steps in a tensorflow program\n",
    "- 1. Building a graph ie. specify the operations and data\n",
    "- 2. Execute the graph to get the result\n",
    "\n",
    "** NOTE: Constants in TF are immutable**\n"
   ]
  },
  {
   "cell_type": "code",
   "execution_count": 4,
   "metadata": {},
   "outputs": [
    {
     "name": "stdout",
     "output_type": "stream",
     "text": [
      "Tensor(\"addn:0\", shape=(), dtype=int32)\n"
     ]
    }
   ],
   "source": [
    "# we gave additional name, to identify these constants\n",
    "    # when visualizing with tensorboard\n",
    "# a,b,c,d are tensors ie. edges\n",
    "a = tf.constant(6, name ='constant_a')\n",
    "b= tf.constant(3,name='constant_b')\n",
    "c = tf.constant(10,name='constant_c')\n",
    "d = tf.constant(5,name='constant_d')\n",
    "\n",
    "# mul is a node specifying multiply operation\n",
    "mul = tf.multiply(a,b, name=\"mul\")\n",
    "div = tf.div(c,d,name=\"div\")\n",
    "addn = tf.add_n([mul,div],name=\"addn\")\n",
    "\n",
    "print(addn)"
   ]
  },
  {
   "cell_type": "code",
   "execution_count": 8,
   "metadata": {},
   "outputs": [
    {
     "name": "stdout",
     "output_type": "stream",
     "text": [
      "Tensor(\"constant_a:0\", shape=(), dtype=int32)\n",
      "Tensor(\"mul:0\", shape=(), dtype=int32)\n"
     ]
    }
   ],
   "source": [
    "# IT does not give us the value \n",
    "# All these instructions above constructed a graph in tensorflow \n",
    "    # but not executed it\n",
    "print(a)\n",
    "print(mul)"
   ]
  },
  {
   "cell_type": "markdown",
   "metadata": {},
   "source": [
    "** reson for two step approach : **\n",
    "    - TF involves constructing huge computation graphs before it is executed. This allows TF to see for efficiency and parallelization mechanism that it can use on the graph and then allows it to split across multiple machines\n",
    "    - A Session Object is responsible for supervising the execution of tensor Flow graphs\n",
    "\n",
    "-NOTE: It computes only till that part of graph that is required to give the value"
   ]
  },
  {
   "cell_type": "code",
   "execution_count": 11,
   "metadata": {},
   "outputs": [
    {
     "data": {
      "text/plain": [
       "18"
      ]
     },
     "execution_count": 11,
     "metadata": {},
     "output_type": "execute_result"
    }
   ],
   "source": [
    "# to run a graph we need session\n",
    "sess = tf.Session()\n",
    "sess.run(addn)\n",
    "sess.run(mul)\n"
   ]
  },
  {
   "cell_type": "markdown",
   "metadata": {},
   "source": [
    "** Visualizing using tensorboard**\n"
   ]
  },
  {
   "cell_type": "code",
   "execution_count": 12,
   "metadata": {},
   "outputs": [],
   "source": [
    "# need to instantiate FileWriter which allows to write events\n",
    "    # to log file\n",
    "writer = tf.summary.FileWriter('./m2_example1',sess.graph)\n",
    "writer.close()\n",
    "sess.close()"
   ]
  },
  {
   "cell_type": "markdown",
   "metadata": {},
   "source": [
    "** to activate tensorboard, open cmd **\n",
    "- #tensorboard --logdir=\"m2_example1\"\n",
    "\n",
    "NOTE: \n",
    "- TF calculates on only that portion of the graph which is required\n",
    "- Multiple portions of the graph can be run // across machines in the cluster"
   ]
  },
  {
   "cell_type": "code",
   "execution_count": 4,
   "metadata": {},
   "outputs": [],
   "source": [
    "import tensorflow as tf\n",
    "\n",
    "a = tf.constant(6.5, name='constant_a')\n",
    "b = tf.constant(3.4, name='constant_b')\n",
    "c=  tf.constant(3.0, name='constant_c')\n",
    "d = tf.constant(100.2, name='constant_d')\n",
    "\n",
    "# Tensor Flow provides many operations that can be done on scalar data\n",
    "    # as well as matrices\n",
    "square = tf.square(a, name=\"square_a\")\n",
    "power = tf.pow(b,c,name=\"pow_b_c\")\n",
    "sqrt = tf.sqrt(d,name=\"sqrt_d\")\n",
    "\n",
    "final_sum = tf.add_n([square,power,sqrt],name= \"final_sum\")\n",
    "sess = tf.Session()"
   ]
  },
  {
   "cell_type": "code",
   "execution_count": 5,
   "metadata": {},
   "outputs": [
    {
     "name": "stdout",
     "output_type": "stream",
     "text": [
      "Square of a: 42.25\n",
      "Power of b ^ c 39.304005\n",
      "Square root of d: 10.0099945\n",
      "sum of square,power and sqrt 91.56\n"
     ]
    }
   ],
   "source": [
    "print(\"Square of a:\",sess.run(square))\n",
    "print(\"Power of b ^ c\", sess.run(power))\n",
    "print(\"Square root of d:\",sess.run(sqrt))\n",
    "\n",
    "print(\"sum of square,power and sqrt {0:.2f}\".format(sess.run(final_sum)))\n",
    "\n",
    "another_sum = tf.add_n([a,b,c,d,power],name=\"another_sum\")\n",
    "\n",
    "# writing oout the graphs to log events\n",
    "writer = tf.summary.FileWriter('./m2_example2', sess.graph)\n",
    "writer.close()\n",
    "sess.close()"
   ]
  },
  {
   "cell_type": "markdown",
   "metadata": {},
   "source": [
    "## Tensors\n",
    "- The central unit of data in TF is a tensor. A tensor consists of a set of primitive values(int,float,string and boolean) shaped into an array of any dimension.\n",
    "NOTE :\n",
    "    - Scalar in TF is a 0-D tensor , ex. 3.67 or \"a\"\n",
    "    - Vectors are 1-D tensors ex. [1,2,3]\n",
    "    - 2D matrix is 2d tensor ( two pair of sq brackets)\n",
    "    - N-D matrix is N-D tensor\n",
    "    \n",
    "### Characterization of a tensor\n",
    "1. Rank : numr of dimension\n",
    "    - scalar : 0\n",
    "    - vector : 1\n",
    "    - 2D tensor : rank 2\n",
    "    - N-d tensor : rank N\n",
    "2. shape: num. of elements in each dimension\n",
    "    - scalar : shape is []\n",
    "    - vector ex. [1,2,3] : shape is [3]\n",
    "    - [[1,2,3],[4,5,6]] : shape is [3,2]\n",
    "3. Datatype : datatype of each element in a tensor\n",
    "    - can ve integer, int8,int32,floating point,string,boolean\n"
   ]
  },
  {
   "cell_type": "code",
   "execution_count": 9,
   "metadata": {},
   "outputs": [
    {
     "name": "stdout",
     "output_type": "stream",
     "text": [
      "0\n",
      "1\n",
      "2\n"
     ]
    }
   ],
   "source": [
    "import tensorflow as tf\n",
    "sess = tf.Session()\n",
    "zeroD = tf.constant(5)\n",
    "print(sess.run(tf.rank(zeroD))) \n",
    "\n",
    "oneD = tf.constant([\"How\",\"are\",\"you?\"])\n",
    "print(sess.run(tf.rank(oneD)))\n",
    "\n",
    "twoD = tf.constant([[1.0,2.3],[1.5,2.9]])\n",
    "print(sess.run(tf.rank(twoD)))\n",
    "\n",
    "sess.close()"
   ]
  },
  {
   "cell_type": "code",
   "execution_count": 1,
   "metadata": {},
   "outputs": [
    {
     "name": "stdout",
     "output_type": "stream",
     "text": [
      "x:  [100 200 300]\n",
      "y:  [1 2 3]\n",
      "sum(x)L  600\n",
      "prod(y):  6\n",
      "sum(x) / prod(y):  100\n",
      "mean ( sum(x),prod(y)): 303\n"
     ]
    }
   ],
   "source": [
    "# example\n",
    "import tensorflow as tf\n",
    "\n",
    "x = tf.constant([100,200,300],name='x')\n",
    "y = tf.constant([1,2,3],name='y')\n",
    "\n",
    "sum_x = tf.reduce_sum(x, name=\"sum_x\")\n",
    "prod_y = tf.reduce_prod(y, name=\"prod_y\")\n",
    "\n",
    "final_div = tf.div(sum_x, prod_y, name=\"final_div\")\n",
    "\n",
    "# mean of numbers\n",
    "final_mean = tf.reduce_mean([sum_x,prod_y], name=\"final_mean\")\n",
    "\n",
    "sess = tf.Session()\n",
    "print(\"x: \",sess.run(x))\n",
    "print(\"y: \",sess.run(y))\n",
    "\n",
    "print(\"sum(x)L \",sess.run(sum_x))\n",
    "print(\"prod(y): \",sess.run(prod_y))\n",
    "print(\"sum(x) / prod(y): \", sess.run(final_div))\n",
    "print(\"mean ( sum(x),prod(y)):\", sess.run(final_mean))\n",
    "\n",
    "writer = tf.summary.FileWriter('./m2_example4',sess.graph)\n",
    "writer.close()\n",
    "sess.close()"
   ]
  },
  {
   "cell_type": "markdown",
   "metadata": {},
   "source": [
    "** TF is perfectly compatible with numpy **\n",
    "- numpy arrays are simply tensors as they are very tightly integrated"
   ]
  },
  {
   "cell_type": "code",
   "execution_count": 4,
   "metadata": {},
   "outputs": [
    {
     "data": {
      "text/plain": [
       "True"
      ]
     },
     "execution_count": 4,
     "metadata": {},
     "output_type": "execute_result"
    }
   ],
   "source": [
    "import numpy as np\n",
    "np.int32 == tf.int32\n",
    "# python treats the primitive types of np and tf same"
   ]
  },
  {
   "cell_type": "code",
   "execution_count": 9,
   "metadata": {},
   "outputs": [
    {
     "name": "stdout",
     "output_type": "stream",
     "text": [
      "0\n",
      "[]\n",
      "1\n",
      "[4]\n"
     ]
    }
   ],
   "source": [
    "zeroD = np.array(30, dtype =np.int32)\n",
    "sess = tf.Session()\n",
    "print(sess.run(tf.rank(zeroD)))\n",
    "print(sess.run(tf.shape(zeroD)))\n",
    "\n",
    "oneD = np.array([5.6,6.3,8.9,9.0],dtype=np.float32)\n",
    "print(sess.run(tf.rank(oneD)))\n",
    "print(sess.run(tf.shape(oneD)))"
   ]
  },
  {
   "cell_type": "code",
   "execution_count": null,
   "metadata": {},
   "outputs": [],
   "source": []
  }
 ],
 "metadata": {
  "kernelspec": {
   "display_name": "Python 3",
   "language": "python",
   "name": "python3"
  },
  "language_info": {
   "codemirror_mode": {
    "name": "ipython",
    "version": 3
   },
   "file_extension": ".py",
   "mimetype": "text/x-python",
   "name": "python",
   "nbconvert_exporter": "python",
   "pygments_lexer": "ipython3",
   "version": "3.5.4"
  }
 },
 "nbformat": 4,
 "nbformat_minor": 2
}
