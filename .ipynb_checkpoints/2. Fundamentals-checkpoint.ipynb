{
 "cells": [
  {
   "cell_type": "markdown",
   "metadata": {},
   "source": [
    "## Regression\n",
    "- It tries to model the relationshop between a cause ie. independent variable and effect ie. depenndent variable\n",
    "    - ex. X causes Y\n",
    "    - if modeled using a st. line .'. Linear Regression\n",
    "    - Linear Regression involves finding the best fit line\n",
    "\n",
    "** implementation **\n",
    "1. estimate initial values for a and b\n",
    "2. find the errors for the regression line with those values\n",
    "    - we calculate least sq error which is distance of point and estimate of the points\n",
    "3. Feed errors back and get new values for A and B ie. feedback loop\n",
    "\n",
    "Note : best fit line is called Regression Line\n",
    "\n",
    "## PlaceHolder\n",
    "- Our model should have the ability to accept different values for X and Y\n",
    "- Placeholders hold the place for a tensor that will be fed at runtime, in effect becoming the input node\n",
    "- Example : \n"
   ]
  },
  {
   "cell_type": "code",
   "execution_count": 7,
   "metadata": {},
   "outputs": [
    {
     "name": "stdout",
     "output_type": "stream",
     "text": [
      "sum(x):  600\n",
      "prod(y):  6\n",
      "sum(x)/prod(y):  10\n"
     ]
    }
   ],
   "source": [
    "import tensorflow as tf\n",
    "\n",
    "# it has a shape of 3, ie 1D vector with 3 elements\n",
    "x = tf.placeholder(tf.int32, shape=[3], name='x')\n",
    "y = tf.placeholder(tf.int32, shape=[3], name='y')\n",
    "\n",
    "sum_x = tf.reduce_sum(x, name=\"sum_x\")\n",
    "prod_y = tf.reduce_prod(y, name=\"prod_y\")\n",
    "\n",
    "final_div = tf.div(sum_x, prod_y, name=\"final_div\")\n",
    "\n",
    "final_mean = tf.reduce_mean([sum_x, prod_y],name= \"final_mean\")\n",
    "\n",
    "sess = tf.Session()\n",
    "print(\"sum(x): \", sess.run(sum_x, feed_dict={x: [100,200,300]}))\n",
    "print(\"prod(y): \", sess.run(prod_y, feed_dict={y:[1,2,3]}))\n",
    "\n",
    "print(\"sum(x)/prod(y): \", sess.run(final_div, feed_dict={x:[10,20,30],y:[1,2,3]}))\n",
    "writer = tf.summary.FileWriter('./m3_example1',sess.graph)\n",
    "\n",
    "writer.close()\n",
    "sess.close()"
   ]
  },
  {
   "cell_type": "markdown",
   "metadata": {},
   "source": [
    "#### fetches and feed_dict that we pass in sess.run()\n",
    "- fetches: what we want to compute\n",
    "- feed_dict: specifies the placeholder values\n",
    "\n",
    "Note : We dont need to give the values from scratch, we can also give intermediate values in sess.run as feed_dict"
   ]
  },
  {
   "cell_type": "code",
   "execution_count": 10,
   "metadata": {},
   "outputs": [
    {
     "name": "stdout",
     "output_type": "stream",
     "text": [
      "Intermedialte result: Wx= [  30 3300]\n",
      "Final Result:  [  57 5009]\n",
      "Intermediate specified: Wx+b [ 107 1009]\n",
      "Two results{ Wx+b, x-b}=  [array([  57, 5009]), array([-2, 41])]\n"
     ]
    }
   ],
   "source": [
    "import tensorflow as tf\n",
    "\n",
    "# y= Wx +b \n",
    "W = tf.constant([10,100], name='const_W')\n",
    "\n",
    "# these place holders can hold tensors of any shape as we \n",
    "    # haven't mentioned anny shape\n",
    "x = tf.placeholder(tf.int32,name='x')\n",
    "b = tf.placeholder(tf.int32,name='b')\n",
    "\n",
    "# element wise mul\n",
    "Wx = tf.multiply(W,x , name=\"Wx\")\n",
    "\n",
    "y= tf.add(Wx,b,name=\"y\")\n",
    "\n",
    "# y_ = x -b\n",
    "y_ = tf.subtract(x,b,name = \"y_\")\n",
    "\n",
    "# Usual way to work with session is using with\n",
    "with tf.Session() as sess:\n",
    "    # sess.run(fetches, feed_dict)\n",
    "    print(\"Intermedialte result: Wx=\",sess.run(Wx,feed_dict={x:[3,33]}))\n",
    "    print(\"Final Result: \",sess.run(y,feed_dict={x:[5,50],b:[7,9]}))\n",
    "\n",
    "    print(\"Intermediate specified: Wx+b\" ,\\\n",
    "             sess.run(fetches=y,feed_dict={Wx:[100,1000],b:[7,9]}))\n",
    "    # we want to calc y and y_ in same run statement\n",
    "    print(\"Two results{ Wx+b, x-b}= \", \\\n",
    "         sess.run(fetches=[y,y_],feed_dict={x:[5,50], b:[7,9]}))\n",
    "    \n",
    "writer = tf.summary.FileWriter('./m3_example2',sess.graph)\n",
    "writer.close()\n",
    " "
   ]
  },
  {
   "cell_type": "markdown",
   "metadata": {},
   "source": [
    "## Variables\n",
    "1. We have seen constants which are immutable\n",
    "2. Placeholders which are used to feed data, but once data is fed they do not change after\n",
    "- In a machine learning, we need the parameters to change with every iteration .'. we need \n",
    "    - VARIABLES : variables are recomputed whenever the graph is recomputed in TF\n",
    "        - defn : mutable tensor values that persist across multiple calls to Session.run() ie. they hold their value till they are explicitly updated\n",
    "        - every variable is assigned an initial value"
   ]
  },
  {
   "cell_type": "code",
   "execution_count": 14,
   "metadata": {},
   "outputs": [
    {
     "name": "stdout",
     "output_type": "stream",
     "text": [
      "Final result: Wx+b =  [ 30. 410.]\n"
     ]
    }
   ],
   "source": [
    "import tensorflow as tf\n",
    "\n",
    "#y = Wx +b\n",
    "W = tf.Variable([2.5, 4.0], tf.float32, name='var_W')\n",
    "\n",
    "x = tf.placeholder(tf.float32, name= 'x')\n",
    "b = tf.Variable([5.0,10.0],tf.float32, name='var_b')\n",
    "\n",
    "y= W*x+b;\n",
    "\n",
    "# we need to have session explicitly initialize variables\n",
    "# this will initialize all varaibles that have been declared\n",
    "init = tf.global_variables_initializer()\n",
    "\n",
    "with tf.Session() as sess:\n",
    "    sess.run(init)\n",
    "    \n",
    "    print(\"Final result: Wx+b = \",sess.run(y,feed_dict={x:[10,100]}))\n",
    "    \n"
   ]
  },
  {
   "cell_type": "code",
   "execution_count": 15,
   "metadata": {
    "collapsed": true
   },
   "outputs": [
    {
     "ename": "FailedPreconditionError",
     "evalue": "Attempting to use uninitialized value var_b_1\n\t [[Node: var_b_1/read = Identity[T=DT_FLOAT, _class=[\"loc:@var_b_1\"], _device=\"/job:localhost/replica:0/task:0/gpu:0\"](var_b_1)]]\n\t [[Node: add_1/_3 = _Recv[client_terminated=false, recv_device=\"/job:localhost/replica:0/task:0/cpu:0\", send_device=\"/job:localhost/replica:0/task:0/gpu:0\", send_device_incarnation=1, tensor_name=\"edge_13_add_1\", tensor_type=DT_FLOAT, _device=\"/job:localhost/replica:0/task:0/cpu:0\"]()]]\n\nCaused by op 'var_b_1/read', defined at:\n  File \"C:\\Users\\vivek\\Anaconda3\\lib\\runpy.py\", line 193, in _run_module_as_main\n    \"__main__\", mod_spec)\n  File \"C:\\Users\\vivek\\Anaconda3\\lib\\runpy.py\", line 85, in _run_code\n    exec(code, run_globals)\n  File \"C:\\Users\\vivek\\Anaconda3\\lib\\site-packages\\ipykernel_launcher.py\", line 16, in <module>\n    app.launch_new_instance()\n  File \"C:\\Users\\vivek\\Anaconda3\\lib\\site-packages\\traitlets\\config\\application.py\", line 658, in launch_instance\n    app.start()\n  File \"C:\\Users\\vivek\\Anaconda3\\lib\\site-packages\\ipykernel\\kernelapp.py\", line 478, in start\n    self.io_loop.start()\n  File \"C:\\Users\\vivek\\Anaconda3\\lib\\site-packages\\zmq\\eventloop\\ioloop.py\", line 177, in start\n    super(ZMQIOLoop, self).start()\n  File \"C:\\Users\\vivek\\Anaconda3\\lib\\site-packages\\tornado\\ioloop.py\", line 888, in start\n    handler_func(fd_obj, events)\n  File \"C:\\Users\\vivek\\Anaconda3\\lib\\site-packages\\tornado\\stack_context.py\", line 277, in null_wrapper\n    return fn(*args, **kwargs)\n  File \"C:\\Users\\vivek\\Anaconda3\\lib\\site-packages\\zmq\\eventloop\\zmqstream.py\", line 440, in _handle_events\n    self._handle_recv()\n  File \"C:\\Users\\vivek\\Anaconda3\\lib\\site-packages\\zmq\\eventloop\\zmqstream.py\", line 472, in _handle_recv\n    self._run_callback(callback, msg)\n  File \"C:\\Users\\vivek\\Anaconda3\\lib\\site-packages\\zmq\\eventloop\\zmqstream.py\", line 414, in _run_callback\n    callback(*args, **kwargs)\n  File \"C:\\Users\\vivek\\Anaconda3\\lib\\site-packages\\tornado\\stack_context.py\", line 277, in null_wrapper\n    return fn(*args, **kwargs)\n  File \"C:\\Users\\vivek\\Anaconda3\\lib\\site-packages\\ipykernel\\kernelbase.py\", line 283, in dispatcher\n    return self.dispatch_shell(stream, msg)\n  File \"C:\\Users\\vivek\\Anaconda3\\lib\\site-packages\\ipykernel\\kernelbase.py\", line 233, in dispatch_shell\n    handler(stream, idents, msg)\n  File \"C:\\Users\\vivek\\Anaconda3\\lib\\site-packages\\ipykernel\\kernelbase.py\", line 399, in execute_request\n    user_expressions, allow_stdin)\n  File \"C:\\Users\\vivek\\Anaconda3\\lib\\site-packages\\ipykernel\\ipkernel.py\", line 208, in do_execute\n    res = shell.run_cell(code, store_history=store_history, silent=silent)\n  File \"C:\\Users\\vivek\\Anaconda3\\lib\\site-packages\\ipykernel\\zmqshell.py\", line 537, in run_cell\n    return super(ZMQInteractiveShell, self).run_cell(*args, **kwargs)\n  File \"C:\\Users\\vivek\\Anaconda3\\lib\\site-packages\\IPython\\core\\interactiveshell.py\", line 2728, in run_cell\n    interactivity=interactivity, compiler=compiler, result=result)\n  File \"C:\\Users\\vivek\\Anaconda3\\lib\\site-packages\\IPython\\core\\interactiveshell.py\", line 2850, in run_ast_nodes\n    if self.run_code(code, result):\n  File \"C:\\Users\\vivek\\Anaconda3\\lib\\site-packages\\IPython\\core\\interactiveshell.py\", line 2910, in run_code\n    exec(code_obj, self.user_global_ns, self.user_ns)\n  File \"<ipython-input-14-b14084444edb>\", line 7, in <module>\n    b = tf.Variable([5.0,10.0],tf.float32, name='var_b')\n  File \"C:\\Users\\vivek\\Anaconda3\\lib\\site-packages\\tensorflow\\python\\ops\\variables.py\", line 199, in __init__\n    expected_shape=expected_shape)\n  File \"C:\\Users\\vivek\\Anaconda3\\lib\\site-packages\\tensorflow\\python\\ops\\variables.py\", line 330, in _init_from_args\n    self._snapshot = array_ops.identity(self._variable, name=\"read\")\n  File \"C:\\Users\\vivek\\Anaconda3\\lib\\site-packages\\tensorflow\\python\\ops\\gen_array_ops.py\", line 1400, in identity\n    result = _op_def_lib.apply_op(\"Identity\", input=input, name=name)\n  File \"C:\\Users\\vivek\\Anaconda3\\lib\\site-packages\\tensorflow\\python\\framework\\op_def_library.py\", line 767, in apply_op\n    op_def=op_def)\n  File \"C:\\Users\\vivek\\Anaconda3\\lib\\site-packages\\tensorflow\\python\\framework\\ops.py\", line 2630, in create_op\n    original_op=self._default_original_op, op_def=op_def)\n  File \"C:\\Users\\vivek\\Anaconda3\\lib\\site-packages\\tensorflow\\python\\framework\\ops.py\", line 1204, in __init__\n    self._traceback = self._graph._extract_stack()  # pylint: disable=protected-access\n\nFailedPreconditionError (see above for traceback): Attempting to use uninitialized value var_b_1\n\t [[Node: var_b_1/read = Identity[T=DT_FLOAT, _class=[\"loc:@var_b_1\"], _device=\"/job:localhost/replica:0/task:0/gpu:0\"](var_b_1)]]\n\t [[Node: add_1/_3 = _Recv[client_terminated=false, recv_device=\"/job:localhost/replica:0/task:0/cpu:0\", send_device=\"/job:localhost/replica:0/task:0/gpu:0\", send_device_incarnation=1, tensor_name=\"edge_13_add_1\", tensor_type=DT_FLOAT, _device=\"/job:localhost/replica:0/task:0/cpu:0\"]()]]\n",
     "output_type": "error",
     "traceback": [
      "\u001b[1;31m---------------------------------------------------------------------------\u001b[0m",
      "\u001b[1;31mFailedPreconditionError\u001b[0m                   Traceback (most recent call last)",
      "\u001b[1;32m~\\Anaconda3\\lib\\site-packages\\tensorflow\\python\\client\\session.py\u001b[0m in \u001b[0;36m_do_call\u001b[1;34m(self, fn, *args)\u001b[0m\n\u001b[0;32m   1326\u001b[0m     \u001b[1;32mtry\u001b[0m\u001b[1;33m:\u001b[0m\u001b[1;33m\u001b[0m\u001b[0m\n\u001b[1;32m-> 1327\u001b[1;33m       \u001b[1;32mreturn\u001b[0m \u001b[0mfn\u001b[0m\u001b[1;33m(\u001b[0m\u001b[1;33m*\u001b[0m\u001b[0margs\u001b[0m\u001b[1;33m)\u001b[0m\u001b[1;33m\u001b[0m\u001b[0m\n\u001b[0m\u001b[0;32m   1328\u001b[0m     \u001b[1;32mexcept\u001b[0m \u001b[0merrors\u001b[0m\u001b[1;33m.\u001b[0m\u001b[0mOpError\u001b[0m \u001b[1;32mas\u001b[0m \u001b[0me\u001b[0m\u001b[1;33m:\u001b[0m\u001b[1;33m\u001b[0m\u001b[0m\n",
      "\u001b[1;32m~\\Anaconda3\\lib\\site-packages\\tensorflow\\python\\client\\session.py\u001b[0m in \u001b[0;36m_run_fn\u001b[1;34m(session, feed_dict, fetch_list, target_list, options, run_metadata)\u001b[0m\n\u001b[0;32m   1305\u001b[0m                                    \u001b[0mfeed_dict\u001b[0m\u001b[1;33m,\u001b[0m \u001b[0mfetch_list\u001b[0m\u001b[1;33m,\u001b[0m \u001b[0mtarget_list\u001b[0m\u001b[1;33m,\u001b[0m\u001b[1;33m\u001b[0m\u001b[0m\n\u001b[1;32m-> 1306\u001b[1;33m                                    status, run_metadata)\n\u001b[0m\u001b[0;32m   1307\u001b[0m \u001b[1;33m\u001b[0m\u001b[0m\n",
      "\u001b[1;32m~\\Anaconda3\\lib\\contextlib.py\u001b[0m in \u001b[0;36m__exit__\u001b[1;34m(self, type, value, traceback)\u001b[0m\n\u001b[0;32m     65\u001b[0m             \u001b[1;32mtry\u001b[0m\u001b[1;33m:\u001b[0m\u001b[1;33m\u001b[0m\u001b[0m\n\u001b[1;32m---> 66\u001b[1;33m                 \u001b[0mnext\u001b[0m\u001b[1;33m(\u001b[0m\u001b[0mself\u001b[0m\u001b[1;33m.\u001b[0m\u001b[0mgen\u001b[0m\u001b[1;33m)\u001b[0m\u001b[1;33m\u001b[0m\u001b[0m\n\u001b[0m\u001b[0;32m     67\u001b[0m             \u001b[1;32mexcept\u001b[0m \u001b[0mStopIteration\u001b[0m\u001b[1;33m:\u001b[0m\u001b[1;33m\u001b[0m\u001b[0m\n",
      "\u001b[1;32m~\\Anaconda3\\lib\\site-packages\\tensorflow\\python\\framework\\errors_impl.py\u001b[0m in \u001b[0;36mraise_exception_on_not_ok_status\u001b[1;34m()\u001b[0m\n\u001b[0;32m    465\u001b[0m           \u001b[0mcompat\u001b[0m\u001b[1;33m.\u001b[0m\u001b[0mas_text\u001b[0m\u001b[1;33m(\u001b[0m\u001b[0mpywrap_tensorflow\u001b[0m\u001b[1;33m.\u001b[0m\u001b[0mTF_Message\u001b[0m\u001b[1;33m(\u001b[0m\u001b[0mstatus\u001b[0m\u001b[1;33m)\u001b[0m\u001b[1;33m)\u001b[0m\u001b[1;33m,\u001b[0m\u001b[1;33m\u001b[0m\u001b[0m\n\u001b[1;32m--> 466\u001b[1;33m           pywrap_tensorflow.TF_GetCode(status))\n\u001b[0m\u001b[0;32m    467\u001b[0m   \u001b[1;32mfinally\u001b[0m\u001b[1;33m:\u001b[0m\u001b[1;33m\u001b[0m\u001b[0m\n",
      "\u001b[1;31mFailedPreconditionError\u001b[0m: Attempting to use uninitialized value var_b_1\n\t [[Node: var_b_1/read = Identity[T=DT_FLOAT, _class=[\"loc:@var_b_1\"], _device=\"/job:localhost/replica:0/task:0/gpu:0\"](var_b_1)]]\n\t [[Node: add_1/_3 = _Recv[client_terminated=false, recv_device=\"/job:localhost/replica:0/task:0/cpu:0\", send_device=\"/job:localhost/replica:0/task:0/gpu:0\", send_device_incarnation=1, tensor_name=\"edge_13_add_1\", tensor_type=DT_FLOAT, _device=\"/job:localhost/replica:0/task:0/cpu:0\"]()]]",
      "\nDuring handling of the above exception, another exception occurred:\n",
      "\u001b[1;31mFailedPreconditionError\u001b[0m                   Traceback (most recent call last)",
      "\u001b[1;32m<ipython-input-15-5e69a1946d8d>\u001b[0m in \u001b[0;36m<module>\u001b[1;34m()\u001b[0m\n\u001b[0;32m      8\u001b[0m \u001b[1;32mwith\u001b[0m \u001b[0mtf\u001b[0m\u001b[1;33m.\u001b[0m\u001b[0mSession\u001b[0m\u001b[1;33m(\u001b[0m\u001b[1;33m)\u001b[0m \u001b[1;32mas\u001b[0m \u001b[0msess\u001b[0m\u001b[1;33m:\u001b[0m\u001b[1;33m\u001b[0m\u001b[0m\n\u001b[0;32m      9\u001b[0m     \u001b[0msess\u001b[0m\u001b[1;33m.\u001b[0m\u001b[0mrun\u001b[0m\u001b[1;33m(\u001b[0m\u001b[0minit\u001b[0m\u001b[1;33m)\u001b[0m\u001b[1;33m\u001b[0m\u001b[0m\n\u001b[1;32m---> 10\u001b[1;33m     \u001b[0mprint\u001b[0m\u001b[1;33m(\u001b[0m\u001b[1;34m\"Final result: Wx+b = \"\u001b[0m\u001b[1;33m,\u001b[0m\u001b[0msess\u001b[0m\u001b[1;33m.\u001b[0m\u001b[0mrun\u001b[0m\u001b[1;33m(\u001b[0m\u001b[0my\u001b[0m\u001b[1;33m,\u001b[0m\u001b[0mfeed_dict\u001b[0m\u001b[1;33m=\u001b[0m\u001b[1;33m{\u001b[0m\u001b[0mx\u001b[0m\u001b[1;33m:\u001b[0m\u001b[1;33m[\u001b[0m\u001b[1;36m10\u001b[0m\u001b[1;33m,\u001b[0m\u001b[1;36m100\u001b[0m\u001b[1;33m]\u001b[0m\u001b[1;33m}\u001b[0m\u001b[1;33m)\u001b[0m\u001b[1;33m)\u001b[0m\u001b[1;33m\u001b[0m\u001b[0m\n\u001b[0m\u001b[0;32m     11\u001b[0m \u001b[0msess\u001b[0m\u001b[1;33m.\u001b[0m\u001b[0mclose\u001b[0m\u001b[1;33m(\u001b[0m\u001b[1;33m)\u001b[0m\u001b[1;33m\u001b[0m\u001b[0m\n",
      "\u001b[1;32m~\\Anaconda3\\lib\\site-packages\\tensorflow\\python\\client\\session.py\u001b[0m in \u001b[0;36mrun\u001b[1;34m(self, fetches, feed_dict, options, run_metadata)\u001b[0m\n\u001b[0;32m    893\u001b[0m     \u001b[1;32mtry\u001b[0m\u001b[1;33m:\u001b[0m\u001b[1;33m\u001b[0m\u001b[0m\n\u001b[0;32m    894\u001b[0m       result = self._run(None, fetches, feed_dict, options_ptr,\n\u001b[1;32m--> 895\u001b[1;33m                          run_metadata_ptr)\n\u001b[0m\u001b[0;32m    896\u001b[0m       \u001b[1;32mif\u001b[0m \u001b[0mrun_metadata\u001b[0m\u001b[1;33m:\u001b[0m\u001b[1;33m\u001b[0m\u001b[0m\n\u001b[0;32m    897\u001b[0m         \u001b[0mproto_data\u001b[0m \u001b[1;33m=\u001b[0m \u001b[0mtf_session\u001b[0m\u001b[1;33m.\u001b[0m\u001b[0mTF_GetBuffer\u001b[0m\u001b[1;33m(\u001b[0m\u001b[0mrun_metadata_ptr\u001b[0m\u001b[1;33m)\u001b[0m\u001b[1;33m\u001b[0m\u001b[0m\n",
      "\u001b[1;32m~\\Anaconda3\\lib\\site-packages\\tensorflow\\python\\client\\session.py\u001b[0m in \u001b[0;36m_run\u001b[1;34m(self, handle, fetches, feed_dict, options, run_metadata)\u001b[0m\n\u001b[0;32m   1122\u001b[0m     \u001b[1;32mif\u001b[0m \u001b[0mfinal_fetches\u001b[0m \u001b[1;32mor\u001b[0m \u001b[0mfinal_targets\u001b[0m \u001b[1;32mor\u001b[0m \u001b[1;33m(\u001b[0m\u001b[0mhandle\u001b[0m \u001b[1;32mand\u001b[0m \u001b[0mfeed_dict_tensor\u001b[0m\u001b[1;33m)\u001b[0m\u001b[1;33m:\u001b[0m\u001b[1;33m\u001b[0m\u001b[0m\n\u001b[0;32m   1123\u001b[0m       results = self._do_run(handle, final_targets, final_fetches,\n\u001b[1;32m-> 1124\u001b[1;33m                              feed_dict_tensor, options, run_metadata)\n\u001b[0m\u001b[0;32m   1125\u001b[0m     \u001b[1;32melse\u001b[0m\u001b[1;33m:\u001b[0m\u001b[1;33m\u001b[0m\u001b[0m\n\u001b[0;32m   1126\u001b[0m       \u001b[0mresults\u001b[0m \u001b[1;33m=\u001b[0m \u001b[1;33m[\u001b[0m\u001b[1;33m]\u001b[0m\u001b[1;33m\u001b[0m\u001b[0m\n",
      "\u001b[1;32m~\\Anaconda3\\lib\\site-packages\\tensorflow\\python\\client\\session.py\u001b[0m in \u001b[0;36m_do_run\u001b[1;34m(self, handle, target_list, fetch_list, feed_dict, options, run_metadata)\u001b[0m\n\u001b[0;32m   1319\u001b[0m     \u001b[1;32mif\u001b[0m \u001b[0mhandle\u001b[0m \u001b[1;32mis\u001b[0m \u001b[1;32mNone\u001b[0m\u001b[1;33m:\u001b[0m\u001b[1;33m\u001b[0m\u001b[0m\n\u001b[0;32m   1320\u001b[0m       return self._do_call(_run_fn, self._session, feeds, fetches, targets,\n\u001b[1;32m-> 1321\u001b[1;33m                            options, run_metadata)\n\u001b[0m\u001b[0;32m   1322\u001b[0m     \u001b[1;32melse\u001b[0m\u001b[1;33m:\u001b[0m\u001b[1;33m\u001b[0m\u001b[0m\n\u001b[0;32m   1323\u001b[0m       \u001b[1;32mreturn\u001b[0m \u001b[0mself\u001b[0m\u001b[1;33m.\u001b[0m\u001b[0m_do_call\u001b[0m\u001b[1;33m(\u001b[0m\u001b[0m_prun_fn\u001b[0m\u001b[1;33m,\u001b[0m \u001b[0mself\u001b[0m\u001b[1;33m.\u001b[0m\u001b[0m_session\u001b[0m\u001b[1;33m,\u001b[0m \u001b[0mhandle\u001b[0m\u001b[1;33m,\u001b[0m \u001b[0mfeeds\u001b[0m\u001b[1;33m,\u001b[0m \u001b[0mfetches\u001b[0m\u001b[1;33m)\u001b[0m\u001b[1;33m\u001b[0m\u001b[0m\n",
      "\u001b[1;32m~\\Anaconda3\\lib\\site-packages\\tensorflow\\python\\client\\session.py\u001b[0m in \u001b[0;36m_do_call\u001b[1;34m(self, fn, *args)\u001b[0m\n\u001b[0;32m   1338\u001b[0m         \u001b[1;32mexcept\u001b[0m \u001b[0mKeyError\u001b[0m\u001b[1;33m:\u001b[0m\u001b[1;33m\u001b[0m\u001b[0m\n\u001b[0;32m   1339\u001b[0m           \u001b[1;32mpass\u001b[0m\u001b[1;33m\u001b[0m\u001b[0m\n\u001b[1;32m-> 1340\u001b[1;33m       \u001b[1;32mraise\u001b[0m \u001b[0mtype\u001b[0m\u001b[1;33m(\u001b[0m\u001b[0me\u001b[0m\u001b[1;33m)\u001b[0m\u001b[1;33m(\u001b[0m\u001b[0mnode_def\u001b[0m\u001b[1;33m,\u001b[0m \u001b[0mop\u001b[0m\u001b[1;33m,\u001b[0m \u001b[0mmessage\u001b[0m\u001b[1;33m)\u001b[0m\u001b[1;33m\u001b[0m\u001b[0m\n\u001b[0m\u001b[0;32m   1341\u001b[0m \u001b[1;33m\u001b[0m\u001b[0m\n\u001b[0;32m   1342\u001b[0m   \u001b[1;32mdef\u001b[0m \u001b[0m_extend_graph\u001b[0m\u001b[1;33m(\u001b[0m\u001b[0mself\u001b[0m\u001b[1;33m)\u001b[0m\u001b[1;33m:\u001b[0m\u001b[1;33m\u001b[0m\u001b[0m\n",
      "\u001b[1;31mFailedPreconditionError\u001b[0m: Attempting to use uninitialized value var_b_1\n\t [[Node: var_b_1/read = Identity[T=DT_FLOAT, _class=[\"loc:@var_b_1\"], _device=\"/job:localhost/replica:0/task:0/gpu:0\"](var_b_1)]]\n\t [[Node: add_1/_3 = _Recv[client_terminated=false, recv_device=\"/job:localhost/replica:0/task:0/cpu:0\", send_device=\"/job:localhost/replica:0/task:0/gpu:0\", send_device_incarnation=1, tensor_name=\"edge_13_add_1\", tensor_type=DT_FLOAT, _device=\"/job:localhost/replica:0/task:0/cpu:0\"]()]]\n\nCaused by op 'var_b_1/read', defined at:\n  File \"C:\\Users\\vivek\\Anaconda3\\lib\\runpy.py\", line 193, in _run_module_as_main\n    \"__main__\", mod_spec)\n  File \"C:\\Users\\vivek\\Anaconda3\\lib\\runpy.py\", line 85, in _run_code\n    exec(code, run_globals)\n  File \"C:\\Users\\vivek\\Anaconda3\\lib\\site-packages\\ipykernel_launcher.py\", line 16, in <module>\n    app.launch_new_instance()\n  File \"C:\\Users\\vivek\\Anaconda3\\lib\\site-packages\\traitlets\\config\\application.py\", line 658, in launch_instance\n    app.start()\n  File \"C:\\Users\\vivek\\Anaconda3\\lib\\site-packages\\ipykernel\\kernelapp.py\", line 478, in start\n    self.io_loop.start()\n  File \"C:\\Users\\vivek\\Anaconda3\\lib\\site-packages\\zmq\\eventloop\\ioloop.py\", line 177, in start\n    super(ZMQIOLoop, self).start()\n  File \"C:\\Users\\vivek\\Anaconda3\\lib\\site-packages\\tornado\\ioloop.py\", line 888, in start\n    handler_func(fd_obj, events)\n  File \"C:\\Users\\vivek\\Anaconda3\\lib\\site-packages\\tornado\\stack_context.py\", line 277, in null_wrapper\n    return fn(*args, **kwargs)\n  File \"C:\\Users\\vivek\\Anaconda3\\lib\\site-packages\\zmq\\eventloop\\zmqstream.py\", line 440, in _handle_events\n    self._handle_recv()\n  File \"C:\\Users\\vivek\\Anaconda3\\lib\\site-packages\\zmq\\eventloop\\zmqstream.py\", line 472, in _handle_recv\n    self._run_callback(callback, msg)\n  File \"C:\\Users\\vivek\\Anaconda3\\lib\\site-packages\\zmq\\eventloop\\zmqstream.py\", line 414, in _run_callback\n    callback(*args, **kwargs)\n  File \"C:\\Users\\vivek\\Anaconda3\\lib\\site-packages\\tornado\\stack_context.py\", line 277, in null_wrapper\n    return fn(*args, **kwargs)\n  File \"C:\\Users\\vivek\\Anaconda3\\lib\\site-packages\\ipykernel\\kernelbase.py\", line 283, in dispatcher\n    return self.dispatch_shell(stream, msg)\n  File \"C:\\Users\\vivek\\Anaconda3\\lib\\site-packages\\ipykernel\\kernelbase.py\", line 233, in dispatch_shell\n    handler(stream, idents, msg)\n  File \"C:\\Users\\vivek\\Anaconda3\\lib\\site-packages\\ipykernel\\kernelbase.py\", line 399, in execute_request\n    user_expressions, allow_stdin)\n  File \"C:\\Users\\vivek\\Anaconda3\\lib\\site-packages\\ipykernel\\ipkernel.py\", line 208, in do_execute\n    res = shell.run_cell(code, store_history=store_history, silent=silent)\n  File \"C:\\Users\\vivek\\Anaconda3\\lib\\site-packages\\ipykernel\\zmqshell.py\", line 537, in run_cell\n    return super(ZMQInteractiveShell, self).run_cell(*args, **kwargs)\n  File \"C:\\Users\\vivek\\Anaconda3\\lib\\site-packages\\IPython\\core\\interactiveshell.py\", line 2728, in run_cell\n    interactivity=interactivity, compiler=compiler, result=result)\n  File \"C:\\Users\\vivek\\Anaconda3\\lib\\site-packages\\IPython\\core\\interactiveshell.py\", line 2850, in run_ast_nodes\n    if self.run_code(code, result):\n  File \"C:\\Users\\vivek\\Anaconda3\\lib\\site-packages\\IPython\\core\\interactiveshell.py\", line 2910, in run_code\n    exec(code_obj, self.user_global_ns, self.user_ns)\n  File \"<ipython-input-14-b14084444edb>\", line 7, in <module>\n    b = tf.Variable([5.0,10.0],tf.float32, name='var_b')\n  File \"C:\\Users\\vivek\\Anaconda3\\lib\\site-packages\\tensorflow\\python\\ops\\variables.py\", line 199, in __init__\n    expected_shape=expected_shape)\n  File \"C:\\Users\\vivek\\Anaconda3\\lib\\site-packages\\tensorflow\\python\\ops\\variables.py\", line 330, in _init_from_args\n    self._snapshot = array_ops.identity(self._variable, name=\"read\")\n  File \"C:\\Users\\vivek\\Anaconda3\\lib\\site-packages\\tensorflow\\python\\ops\\gen_array_ops.py\", line 1400, in identity\n    result = _op_def_lib.apply_op(\"Identity\", input=input, name=name)\n  File \"C:\\Users\\vivek\\Anaconda3\\lib\\site-packages\\tensorflow\\python\\framework\\op_def_library.py\", line 767, in apply_op\n    op_def=op_def)\n  File \"C:\\Users\\vivek\\Anaconda3\\lib\\site-packages\\tensorflow\\python\\framework\\ops.py\", line 2630, in create_op\n    original_op=self._default_original_op, op_def=op_def)\n  File \"C:\\Users\\vivek\\Anaconda3\\lib\\site-packages\\tensorflow\\python\\framework\\ops.py\", line 1204, in __init__\n    self._traceback = self._graph._extract_stack()  # pylint: disable=protected-access\n\nFailedPreconditionError (see above for traceback): Attempting to use uninitialized value var_b_1\n\t [[Node: var_b_1/read = Identity[T=DT_FLOAT, _class=[\"loc:@var_b_1\"], _device=\"/job:localhost/replica:0/task:0/gpu:0\"](var_b_1)]]\n\t [[Node: add_1/_3 = _Recv[client_terminated=false, recv_device=\"/job:localhost/replica:0/task:0/cpu:0\", send_device=\"/job:localhost/replica:0/task:0/gpu:0\", send_device_incarnation=1, tensor_name=\"edge_13_add_1\", tensor_type=DT_FLOAT, _device=\"/job:localhost/replica:0/task:0/cpu:0\"]()]]\n"
     ]
    }
   ],
   "source": [
    "# How to initialize just a single variable rather than all\n",
    "# s= Wx \n",
    "s= W*x\n",
    "\n",
    "# Initialize only w\n",
    "init = tf.variables_initializer([W])\n",
    "\n",
    "# we will get an error as we initialized only W and not b\n",
    "with tf.Session() as sess:\n",
    "    sess.run(init)\n",
    "    print(\"Final result: Wx+b = \",sess.run(y,feed_dict={x:[10,100]}))\n"
   ]
  },
  {
   "cell_type": "code",
   "execution_count": 17,
   "metadata": {},
   "outputs": [
    {
     "name": "stdout",
     "output_type": "stream",
     "text": [
      "Result number * multiplier=  2\n",
      "Increment multiplier, new value= 2\n",
      "Result number * multiplier=  4\n",
      "Increment multiplier, new value= 3\n",
      "Result number * multiplier=  12\n",
      "Increment multiplier, new value= 4\n",
      "Result number * multiplier=  48\n",
      "Increment multiplier, new value= 5\n",
      "Result number * multiplier=  240\n",
      "Increment multiplier, new value= 6\n",
      "Result number * multiplier=  1440\n",
      "Increment multiplier, new value= 7\n",
      "Result number * multiplier=  10080\n",
      "Increment multiplier, new value= 8\n",
      "Result number * multiplier=  80640\n",
      "Increment multiplier, new value= 9\n",
      "Result number * multiplier=  725760\n",
      "Increment multiplier, new value= 10\n",
      "Result number * multiplier=  7257600\n",
      "Increment multiplier, new value= 11\n"
     ]
    }
   ],
   "source": [
    "# Updating the values of variables\n",
    "number = tf.Variable(2)\n",
    "multiplier = tf.Variable(1)\n",
    "\n",
    "init = tf.global_variables_initializer()\n",
    "\n",
    "# assign will assign a new value to a variable\n",
    "result = number.assign(tf.multiply(number,multiplier))\n",
    "\n",
    "with tf.Session() as sess:\n",
    "    sess.run(init)\n",
    "    \n",
    "    for i in range(10):\n",
    "        print(\"Result number * multiplier= \", sess.run(result))\n",
    "        print(\"Increment multiplier, new value=\",sess.run(multiplier.assign_add(1)))\n"
   ]
  },
  {
   "cell_type": "markdown",
   "metadata": {},
   "source": [
    "## Default graph and Explicitly specified Graph\n",
    "- Computation graph in TF uses edges to represent tensors and nodes for operators\n",
    "- Q. Is there only one graph we can set up in a program ?\n",
    "- Soln : \n",
    "    - We can explicitly define as many graphs as we need within a single tensorflow graph\n",
    "    - Every TF program has a default graph associated with it. Any placeholder, variable etc instantiation and computation falls under this default graph\n",
    "    - We implicitly use default graph\n",
    "    - But we can alsoe logically segment the graph by calling tf.Graph() explicitly\n",
    "    - If we want tensors and operators to be added to this graph we have to set it to default\n"
   ]
  },
  {
   "cell_type": "code",
   "execution_count": 24,
   "metadata": {},
   "outputs": [
    {
     "name": "stdout",
     "output_type": "stream",
     "text": [
      "[ 53 704]\n",
      "[  125 16807]\n",
      "[15 35]\n"
     ]
    }
   ],
   "source": [
    "import tensorflow as tf\n",
    "\n",
    "g1 = tf.Graph()\n",
    "\n",
    "# setting this graph to default\n",
    "with g1.as_default():\n",
    "    with tf.Session() as sess:\n",
    "        #y = Ax+b \n",
    "        A = tf.constant([5,7],tf.int32,name='A')\n",
    "        x = tf.placeholder(tf.int32,name='x')\n",
    "        b = tf.constant([3,4],tf.int32,name='b')\n",
    "        \n",
    "        y= tf.add(tf.multiply(A,x),b)\n",
    "        # or just y = A*x +b will also work\n",
    "        print(sess.run(y,feed_dict={x:[10,100]}))\n",
    "        assert y.graph is g1\n",
    "        \n",
    "# instantiating another graph within the same program\n",
    "g2 = tf.Graph()\n",
    "with g2.as_default():\n",
    "    with tf.Session() as sess:\n",
    "        A = tf.constant([5,7],tf.int32,name='A')\n",
    "        x = tf.placeholder(tf.int32,name='x')\n",
    "        y = tf.pow(A,x, name=\"y\")\n",
    "        print(sess.run(y,feed_dict={x:[3,5]}))\n",
    "        # this will throw an error\n",
    "        #assert y.graph is g1\n",
    "        assert y.graph == g2\n",
    "        \n",
    "# if we want the default graph handle\n",
    "default_graph = tf.get_default_graph()\n",
    "with tf.Session() as sess:\n",
    "    # we dont have a with statement telling which graph to add to\n",
    "    A = tf.constant([5,7],tf.int32,name='A')\n",
    "    x = tf.placeholder(tf.int32,name='x')\n",
    "    y= A*x\n",
    "    print(sess.run(y,feed_dict={x:[3,5]}))\n",
    "    assert y.graph is default_graph"
   ]
  },
  {
   "cell_type": "markdown",
   "metadata": {},
   "source": [
    "### Improve debugging with named scope\n",
    "- When the graph is very large, we need to abstract the small details and get the bigger picture\n",
    "- we can have a zoomed in view when needed\n"
   ]
  },
  {
   "cell_type": "code",
   "execution_count": 1,
   "metadata": {},
   "outputs": [
    {
     "name": "stdout",
     "output_type": "stream",
     "text": [
      "[1356]\n"
     ]
    }
   ],
   "source": [
    "import tensorflow as tf\n",
    "A = tf.constant([4],tf.int32, name='A')\n",
    "B = tf.constant([5],tf.int32, name='B')\n",
    "C = tf.constant([6], tf.int32, name='C')\n",
    "\n",
    "x= tf.placeholder(tf.int32,name='x')\n",
    "\n",
    "# y = Ax^2 + Bx +C\n",
    "Ax2_1 = tf.multiply(A, tf.pow(x,2), name= \"Ax2_1\")\n",
    "Bx = tf.multiply(B,x, name=\"Bx\")\n",
    "y1 = tf.add_n([Ax2_1,Bx,C], name=\"y1\")\n",
    "\n",
    "# y = Ax^2 + Bx^2\n",
    "Ax2_2 = tf.multiply(A, tf.pow(x,2), name= \"Ax2_2\")\n",
    "Bx2 = tf.multiply(B, tf.pow(x,2), name= \"Bx2\")\n",
    "y2 = tf.add_n([Ax2_2,Bx2],name=\"y2\")\n",
    "\n",
    "y= y1+y2\n",
    "\n",
    "with tf.Session() as session:\n",
    "    print(session.run(y,feed_dict={x:[10]}))\n",
    "    \n",
    "    writer = tf.summary.FileWriter('./m3_example5',session.graph)\n",
    "    writer.close()"
   ]
  },
  {
   "cell_type": "code",
   "execution_count": 1,
   "metadata": {},
   "outputs": [
    {
     "name": "stdout",
     "output_type": "stream",
     "text": [
      "[1356]\n"
     ]
    }
   ],
   "source": [
    "# Adding named Scope\n",
    "# Now we can use Ax2 for both of them,ie. same variable name as \n",
    "    # both of them are different logical segments\n",
    "import tensorflow as tf\n",
    "A = tf.constant([4],tf.int32, name='A')\n",
    "B = tf.constant([5],tf.int32, name='B')\n",
    "C = tf.constant([6], tf.int32, name='C')\n",
    "\n",
    "x= tf.placeholder(tf.int32,name='x')\n",
    "\n",
    "# y = Ax^2 + Bx +C\n",
    "with tf.name_scope(\"Equation_1\"):\n",
    "    Ax2 = tf.multiply(A, tf.pow(x,2), name= \"Ax2\")\n",
    "    Bx = tf.multiply(B,x, name=\"Bx\")\n",
    "    y1 = tf.add_n([Ax2,Bx,C], name=\"y1\")\n",
    "\n",
    "# y = Ax^2 + Bx^2\n",
    "with tf.name_scope(\"Equation_2\"):\n",
    "    Ax2 = tf.multiply(A, tf.pow(x,2), name= \"Ax2\")\n",
    "    Bx2 = tf.multiply(B, tf.pow(x,2), name= \"Bx2\")\n",
    "    y2 = tf.add_n([Ax2,Bx2],name=\"y2\")\n",
    "\n",
    "with tf.name_scope(\"Final_Sum\"):\n",
    "    y= y1+y2\n",
    "\n",
    "with tf.Session() as session:\n",
    "    print(session.run(y,feed_dict={x:[10]}))\n",
    "    \n",
    "    writer = tf.summary.FileWriter('./m3_example6',session.graph)\n",
    "    writer.close()"
   ]
  },
  {
   "cell_type": "markdown",
   "metadata": {},
   "source": [
    "## Interactive Session\n",
    "- We can work with a session in TF without holding a reference to the session instance "
   ]
  },
  {
   "cell_type": "code",
   "execution_count": 7,
   "metadata": {},
   "outputs": [
    {
     "name": "stdout",
     "output_type": "stream",
     "text": [
      "[20]\n"
     ]
    }
   ],
   "source": [
    "import tensorflow as tf\n",
    "# we dont need to save the session as an object\n",
    "# we can directly evaluate the value\n",
    "sess = tf.InteractiveSession()\n",
    "\n",
    "A = tf.constant([4],tf.int32, name='A')\n",
    "b = tf.placeholder(tf.int32, name='b')\n",
    "\n",
    "y= A*b\n",
    "\n",
    "y.eval(feed_dict={b:[5]})\n",
    "\n",
    "print(y.eval(feed_dict={b:[5]}))\n",
    "\n",
    "sess.close()"
   ]
  },
  {
   "cell_type": "markdown",
   "metadata": {},
   "source": [
    "## Linear Regression in TF"
   ]
  },
  {
   "cell_type": "code",
   "execution_count": 10,
   "metadata": {},
   "outputs": [
    {
     "name": "stdout",
     "output_type": "stream",
     "text": [
      "W : [-0.9999969] b: [0.9999908] loss: 5.699973826267524e-11\n"
     ]
    }
   ],
   "source": [
    "import tensorflow as tf\n",
    "\n",
    "# Model parameters\n",
    "W = tf.Variable([.3], dtype=tf.float32)\n",
    "b = tf.Variable([-.3], dtype= tf.float32)\n",
    "\n",
    "# Model input and output\n",
    "x = tf.placeholder(tf.float32)\n",
    "linear_model = W*x +b\n",
    "\n",
    "# we want to feed in range of values in x as our training data\n",
    "y=tf.placeholder(tf.float32)\n",
    "\n",
    "# loss\n",
    "loss = tf.reduce_sum(tf.square(linear_model- y))\n",
    "\n",
    "# optimizer\n",
    "# this is the most common optimizer\n",
    "optimizer = tf.train.GradientDescentOptimizer(0.01)\n",
    "\n",
    "train = optimizer.minimize(loss)\n",
    "\n",
    "# training data\n",
    "x_train = [1,2,3,4]\n",
    "y_train = [0,-1,-2,-3]\n",
    "\n",
    "init = tf.global_variables_initializer()\n",
    "\n",
    "with tf.Session() as sess:\n",
    "    sess.run(init)\n",
    "    \n",
    "    # training data is in batches several times\n",
    "    for i in range(1000):\n",
    "        sess.run(train,{x: x_train,y:y_train})\n",
    "        \n",
    "    # evaluate training accuracy\n",
    "    curr_w, curr_b, curr_loss = sess.run([W,b,loss],{x:x_train,y:y_train})\n",
    "    print(\"W : {0} b: {1} loss: {2}\".format(curr_w,curr_b,curr_loss) )"
   ]
  },
  {
   "cell_type": "code",
   "execution_count": null,
   "metadata": {},
   "outputs": [],
   "source": []
  }
 ],
 "metadata": {
  "kernelspec": {
   "display_name": "Python 3",
   "language": "python",
   "name": "python3"
  },
  "language_info": {
   "codemirror_mode": {
    "name": "ipython",
    "version": 3
   },
   "file_extension": ".py",
   "mimetype": "text/x-python",
   "name": "python",
   "nbconvert_exporter": "python",
   "pygments_lexer": "ipython3",
   "version": "3.5.4"
  }
 },
 "nbformat": 4,
 "nbformat_minor": 2
}
